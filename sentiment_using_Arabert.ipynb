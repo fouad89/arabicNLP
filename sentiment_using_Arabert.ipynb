{
  "nbformat": 4,
  "nbformat_minor": 0,
  "metadata": {
    "colab": {
      "name": "sentiment_using_Arabert.ipynb",
      "provenance": [],
      "authorship_tag": "ABX9TyMfrCHBwinsrZap2dAaks76",
      "include_colab_link": true
    },
    "kernelspec": {
      "name": "python3",
      "display_name": "Python 3"
    },
    "language_info": {
      "name": "python"
    }
  },
  "cells": [
    {
      "cell_type": "markdown",
      "metadata": {
        "id": "view-in-github",
        "colab_type": "text"
      },
      "source": [
        "<a href=\"https://colab.research.google.com/github/fouad89/arabicNLP/blob/main/sentiment_using_Arabert.ipynb\" target=\"_parent\"><img src=\"https://colab.research.google.com/assets/colab-badge.svg\" alt=\"Open In Colab\"/></a>"
      ]
    },
    {
      "cell_type": "code",
      "execution_count": null,
      "metadata": {
        "id": "2CCR2c_VifwR"
      },
      "outputs": [],
      "source": [
        ""
      ]
    }
  ]
}